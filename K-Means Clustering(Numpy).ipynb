{
  "nbformat": 4,
  "nbformat_minor": 0,
  "metadata": {
    "colab": {
      "name": "PR2021_HW1_박진수(2016540018).ipynb",
      "provenance": [],
      "collapsed_sections": [],
      "include_colab_link": true
    },
    "kernelspec": {
      "name": "python3",
      "display_name": "Python 3"
    },
    "language_info": {
      "name": "python"
    }
  },
  "cells": [
    {
      "cell_type": "markdown",
      "metadata": {
        "id": "view-in-github",
        "colab_type": "text"
      },
      "source": [
        "<a href=\"https://colab.research.google.com/github/sjinu96/Pattern-Recognition/blob/main/K-Means%20Clustering(Numpy).ipynb\" target=\"_parent\"><img src=\"https://colab.research.google.com/assets/colab-badge.svg\" alt=\"Open In Colab\"/></a>"
      ]
    },
    {
      "cell_type": "markdown",
      "metadata": {
        "id": "X39Blwgh6gbn"
      },
      "source": [
        "#2021학년도 2학기 패턴인식 HW1  \n",
        "\n",
        "**제출자 : 서울시립대학교 수학과 박진수(2016540018)**\n",
        "\n",
        "작성자: 서울시립대학교 인공지능학과 정지영 교수"
      ]
    },
    {
      "cell_type": "markdown",
      "metadata": {
        "id": "Omm1hk5bFa68"
      },
      "source": [
        "# 1. Environment Setting\n",
        "\n"
      ]
    },
    {
      "cell_type": "code",
      "metadata": {
        "id": "fbTU6g7Q9WVE"
      },
      "source": [
        "import numpy as np\n",
        "import scipy.io\n",
        "import matplotlib.pyplot as plt\n",
        "import cv2 as cv\n",
        "from google.colab import drive\n",
        "from google.colab.patches import cv2_imshow\n",
        "\n",
        "# Accessing My Google Drxve')\n",
        "drive.mount('/content/drive')"
      ],
      "execution_count": 3,
      "outputs": []
    },
    {
      "cell_type": "markdown",
      "metadata": {
        "id": "lx8tUoPqFn8w"
      },
      "source": [
        "# 2. Implementing K-means\n",
        "아래 K-means를 실행할 수 있도록 Coding cell이 5개 있습니다.\n",
        "\n",
        "**1) Data loading cell**\n",
        "\n",
        "K-means를 위한 data를 loading 하는 셀입니다. 이부분은 코드가 완성되어 있습니다. Shift+Enter로 실행하여 data의 분포를 그림으로 확인하세요 given_data.png와 같은 그래프가 떠야합니다\n",
        "\n",
        "**2) findClosestCentroids function cell**\n",
        "\n",
        "입력데이터 X (m x n) 와 K개의 중앙점 위치 c (K x n)가 주어졌을 때, 각 입력데이터가 몇번째 중앙점과 가장 가까운지 계산하여 idx 로 반환합니다. 이때 idx는 m-dimensional vector이며 0에서 K-1 사이의 인덱스로 이루어져있습니다.\n",
        "\n",
        "Hint: numpy의 zeros, power, argmin 등의 함수를 활용하세요.\n",
        "\n",
        "**3) computeMeans function cell**\n",
        "\n",
        "입력데이터 X (m x n), 각 입력데이터가 몇번째 cluster에 속하는지에 대한 정보 idx (m x 1), cluster의 갯수 K가 주어졌을 때, 새로운 centroid의 위치를 계산하여 c로 반환합니다. c는 (K x n) 크기가 되어야 합니다. \n",
        "\n",
        "Hint: numpy의 zeros, where, shape, reshape, mean 등의 함수를 활용하세요.\n",
        "\n",
        "**4) kMeansInitCentroids function cell**\n",
        "\n",
        "제일 처음 입력데이터 X (m x n) 중에서 random하게 K개를 골라 중앙점 c로 반환합니다. c는 (K x n) 크기가 되어야 합니다. \n",
        "\n",
        "Hint: numpy의 random.choice 등의 함수를 활용하세요.\n",
        "\n",
        "**5) Run cell**\n",
        "\n",
        "K-means를 실행하고 결과를 plot하기 위한 셀입니다. 이부분은 코드가 완성되어 있습니다. 위의 function 3개 코드를 구현하면 이 셀의 코드를 실행하였을 때 expected_result.png와 같은 결과를 얻을수 있습니다.\n",
        "구현의 편의를 위하여, converge 조건을 따로 정하지 않고, iteration을 30번 수행하면 loop이 끝나도록 구현하였습니다.\n",
        "\n",
        " \n",
        "\n",
        "\n"
      ]
    },
    {
      "cell_type": "code",
      "metadata": {
        "id": "KEnuf8Eq40w1",
        "colab": {
          "base_uri": "https://localhost:8080/",
          "height": 267
        },
        "outputId": "a9e1b795-0924-4c18-b7b0-e6e92fd88626"
      },
      "source": [
        "# Data loading\n",
        "data_path = \"drive/My Drive/Colab Notebooks/Pattern Recognition/hw1/\"\n",
        "data = scipy.io.loadmat(data_path+'ex7data2.mat')\n",
        "X = data['X']\n",
        "plt.scatter(X[:,0],X[:,1],c='b')\n",
        "plt.grid(True)"
      ],
      "execution_count": 4,
      "outputs": [
        {
          "output_type": "display_data",
          "data": {
            "image/png": "[encoded data removed]",
            "text/plain": [
              "<Figure size 432x288 with 1 Axes>"
            ]
          },
          "metadata": {
            "needs_background": "light"
          }
        }
      ]
    },
    {
      "cell_type": "code",
      "metadata": {
        "id": "RrQFaOKw1BVA"
      },
      "source": [
        "def findClosestCentroids(X, c):\n",
        "  m, n = np.shape(X)\n",
        "  K, n = np.shape(c)  \n",
        "  idx = -1*np.ones(m) # Initialization\n",
        "  \n",
        "  # 이 구간을 구현하세요 (for문을 활용하세요)\n",
        "  for i in range(m):\n",
        "      idx[i]=np.argmin([sum((X[i]-c[j])**2) for j in range(K)]) # L2 norm을 기준으로 가장 작은 값을 보이는 index를 반환. \n",
        "\n",
        "  return idx"
      ],
      "execution_count": 140,
      "outputs": []
    },
    {
      "cell_type": "code",
      "metadata": {
        "id": "9TnWy3LX_xHH"
      },
      "source": [
        "def computeMeans(X, idx, K):\n",
        "  c = np.zeros((K, n))\n",
        "\n",
        "  # 이 구간을 구현하세요 (for문을 활용하세요)\n",
        "  for j in range(K):\n",
        "    c[j]=np.mean(X[np.where(idx==j)], axis=0) # idx로 j를 갖는 샘플들의 평균\n",
        "\n",
        "  return c"
      ],
      "execution_count": 141,
      "outputs": []
    },
    {
      "cell_type": "code",
      "metadata": {
        "id": "nRJVKFchF1PH"
      },
      "source": [
        "def kMeansInitCentroids(X, K):\n",
        "  m, n = np.shape(X)\n",
        "\n",
        "  # 이 구간을 구현하세요 (최소 2줄로 구현가능!)\n",
        "  sample_idx=np.random.choice(range(m), size=K, replace=False ) # 비복원추출, K개의 sample index \n",
        "  c = X[sample_idx]\n",
        "\n",
        "  return c"
      ],
      "execution_count": 142,
      "outputs": []
    },
    {
      "cell_type": "code",
      "metadata": {
        "id": "lnPBwP36z_4g",
        "colab": {
          "base_uri": "https://localhost:8080/",
          "height": 344
        },
        "outputId": "f60eb524-a4fe-423c-e152-31cbf6312e3f"
      },
      "source": [
        "# Run K-means\n",
        "\n",
        "# Initialize centroids\n",
        "iterations = 30\n",
        "K=3\n",
        "centroids = kMeansInitCentroids(X, K)\n",
        "\n",
        "for i in range(0,iterations):\n",
        "  # Cluster assignment step: Assign each data point to the closest centroid\n",
        "  # idx(i) corresponds to c^(i), the index of the centroid assigned to example i\n",
        "  idx = findClosestCentroids(X, centroids)\n",
        "\n",
        "  # Move centroid step: Compute means based on cetroid assignments\n",
        "  centroids = computeMeans(X, idx, K)\n",
        "\n",
        "# Plot result\n",
        "cmap = plt.cm.get_cmap('hsv', K+1)\n",
        "for j in range(0,K):\n",
        "  assigned_idx = np.where(idx==j)\n",
        "  dim, num = np.shape(assigned_idx)\n",
        "  assigned_idx = np.reshape(assigned_idx,num)\n",
        "  \n",
        "  plt.scatter(X[assigned_idx,0],X[assigned_idx,1],c=cmap(j))\n",
        "  plt.scatter(centroids[j,0],centroids[j,1],c='k',marker='x')\n",
        "plt.axis('equal')\n",
        "plt.grid(True)"
      ],
      "execution_count": 159,
      "outputs": [
        {
          "output_type": "stream",
          "name": "stderr",
          "text": [
            "*c* argument looks like a single numeric RGB or RGBA sequence, which should be avoided as value-mapping will have precedence in case its length matches with *x* & *y*.  Please use the *color* keyword-argument or provide a 2-D array with a single row if you intend to specify the same RGB or RGBA value for all points.\n",
            "*c* argument looks like a single numeric RGB or RGBA sequence, which should be avoided as value-mapping will have precedence in case its length matches with *x* & *y*.  Please use the *color* keyword-argument or provide a 2-D array with a single row if you intend to specify the same RGB or RGBA value for all points.\n",
            "*c* argument looks like a single numeric RGB or RGBA sequence, which should be avoided as value-mapping will have precedence in case its length matches with *x* & *y*.  Please use the *color* keyword-argument or provide a 2-D array with a single row if you intend to specify the same RGB or RGBA value for all points.\n"
          ]
        },
        {
          "output_type": "display_data",
          "data": {
            "image/png": "[encoded data removed]",
            "text/plain": [
              "<Figure size 432x288 with 1 Axes>"
            ]
          },
          "metadata": {
            "needs_background": "light"
          }
        }
      ]
    },
    {
      "cell_type": "code",
      "metadata": {
        "id": "iLKgJxywGC5f"
      },
      "source": [
        ""
      ],
      "execution_count": null,
      "outputs": []
    }
  ]
}